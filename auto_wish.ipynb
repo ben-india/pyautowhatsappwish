{
 "cells": [
  {
   "cell_type": "code",
   "execution_count": 38,
   "metadata": {},
   "outputs": [],
   "source": [
    "import pandas as pd\n",
    "from datetime import date"
   ]
  },
  {
   "cell_type": "code",
   "execution_count": 46,
   "metadata": {},
   "outputs": [
    {
     "data": {
      "text/html": [
       "<div>\n",
       "<style scoped>\n",
       "    .dataframe tbody tr th:only-of-type {\n",
       "        vertical-align: middle;\n",
       "    }\n",
       "\n",
       "    .dataframe tbody tr th {\n",
       "        vertical-align: top;\n",
       "    }\n",
       "\n",
       "    .dataframe thead th {\n",
       "        text-align: right;\n",
       "    }\n",
       "</style>\n",
       "<table border=\"1\" class=\"dataframe\">\n",
       "  <thead>\n",
       "    <tr style=\"text-align: right;\">\n",
       "      <th></th>\n",
       "      <th>Name</th>\n",
       "      <th>DOB</th>\n",
       "      <th>DOA</th>\n",
       "      <th>Type</th>\n",
       "      <th>Knownfrom</th>\n",
       "      <th>Whatsapp_name</th>\n",
       "      <th>Mobile_no</th>\n",
       "    </tr>\n",
       "  </thead>\n",
       "  <tbody>\n",
       "    <tr>\n",
       "      <th>0</th>\n",
       "      <td>Benu</td>\n",
       "      <td>1920-01-16</td>\n",
       "      <td>NaT</td>\n",
       "      <td>Personal</td>\n",
       "      <td>NaN</td>\n",
       "      <td>Wtest</td>\n",
       "      <td>xxxx</td>\n",
       "    </tr>\n",
       "    <tr>\n",
       "      <th>1</th>\n",
       "      <td>test1</td>\n",
       "      <td>NaT</td>\n",
       "      <td>2020-01-15</td>\n",
       "      <td>Colleage</td>\n",
       "      <td>NaN</td>\n",
       "      <td>Wtest</td>\n",
       "      <td>NaN</td>\n",
       "    </tr>\n",
       "    <tr>\n",
       "      <th>2</th>\n",
       "      <td>test2</td>\n",
       "      <td>2020-01-15</td>\n",
       "      <td>NaT</td>\n",
       "      <td>Relative</td>\n",
       "      <td>NaN</td>\n",
       "      <td>Priya</td>\n",
       "      <td>NaN</td>\n",
       "    </tr>\n",
       "    <tr>\n",
       "      <th>3</th>\n",
       "      <td>test3</td>\n",
       "      <td>NaT</td>\n",
       "      <td>2020-01-15</td>\n",
       "      <td>Social</td>\n",
       "      <td>NaN</td>\n",
       "      <td>Wtest</td>\n",
       "      <td>NaN</td>\n",
       "    </tr>\n",
       "  </tbody>\n",
       "</table>\n",
       "</div>"
      ],
      "text/plain": [
       "    Name        DOB        DOA      Type  Knownfrom Whatsapp_name Mobile_no\n",
       "0   Benu 1920-01-16        NaT  Personal        NaN         Wtest      xxxx\n",
       "1  test1        NaT 2020-01-15  Colleage        NaN         Wtest       NaN\n",
       "2  test2 2020-01-15        NaT  Relative        NaN         Priya       NaN\n",
       "3  test3        NaT 2020-01-15    Social        NaN         Wtest       NaN"
      ]
     },
     "execution_count": 46,
     "metadata": {},
     "output_type": "execute_result"
    }
   ],
   "source": [
    "wish_cal=pd.read_excel('contacts.xlsx')\n",
    "wish_cal"
   ]
  },
  {
   "cell_type": "code",
   "execution_count": 36,
   "metadata": {},
   "outputs": [
    {
     "data": {
      "text/html": [
       "<div>\n",
       "<style scoped>\n",
       "    .dataframe tbody tr th:only-of-type {\n",
       "        vertical-align: middle;\n",
       "    }\n",
       "\n",
       "    .dataframe tbody tr th {\n",
       "        vertical-align: top;\n",
       "    }\n",
       "\n",
       "    .dataframe thead th {\n",
       "        text-align: right;\n",
       "    }\n",
       "</style>\n",
       "<table border=\"1\" class=\"dataframe\">\n",
       "  <thead>\n",
       "    <tr style=\"text-align: right;\">\n",
       "      <th></th>\n",
       "      <th>Name</th>\n",
       "      <th>DOB</th>\n",
       "      <th>DOA</th>\n",
       "      <th>Type</th>\n",
       "      <th>Knownfrom</th>\n",
       "      <th>Whatsapp_name</th>\n",
       "      <th>Mobile_no</th>\n",
       "      <th>d</th>\n",
       "    </tr>\n",
       "  </thead>\n",
       "  <tbody>\n",
       "    <tr>\n",
       "      <th>0</th>\n",
       "      <td>Benu</td>\n",
       "      <td>2020-01-15</td>\n",
       "      <td>NaT</td>\n",
       "      <td>Personal</td>\n",
       "      <td>NaN</td>\n",
       "      <td>Wtest</td>\n",
       "      <td>xxxx</td>\n",
       "      <td>115.0</td>\n",
       "    </tr>\n",
       "    <tr>\n",
       "      <th>2</th>\n",
       "      <td>test2</td>\n",
       "      <td>2020-01-15</td>\n",
       "      <td>NaT</td>\n",
       "      <td>Relative</td>\n",
       "      <td>NaN</td>\n",
       "      <td>Priya</td>\n",
       "      <td>NaN</td>\n",
       "      <td>115.0</td>\n",
       "    </tr>\n",
       "  </tbody>\n",
       "</table>\n",
       "</div>"
      ],
      "text/plain": [
       "    Name        DOB DOA      Type  Knownfrom Whatsapp_name Mobile_no      d\n",
       "0   Benu 2020-01-15 NaT  Personal        NaN         Wtest      xxxx  115.0\n",
       "2  test2 2020-01-15 NaT  Relative        NaN         Priya       NaN  115.0"
      ]
     },
     "execution_count": 36,
     "metadata": {},
     "output_type": "execute_result"
    }
   ],
   "source": [
    "# wish_cal[wish_cal[\"DOB\"]==pd.Timestamp(date.today())]\n",
    "nons1=wish_cal.dropna(subset=['DOB'])\n",
    "n2=nons1[nons1['DOB'].map(lambda x: x.strftime('%m-%d'))==date.today().strftime('%m-%d')]\n",
    "n2\n"
   ]
  },
  {
   "cell_type": "code",
   "execution_count": 30,
   "metadata": {},
   "outputs": [
    {
     "data": {
      "text/html": [
       "<div>\n",
       "<style scoped>\n",
       "    .dataframe tbody tr th:only-of-type {\n",
       "        vertical-align: middle;\n",
       "    }\n",
       "\n",
       "    .dataframe tbody tr th {\n",
       "        vertical-align: top;\n",
       "    }\n",
       "\n",
       "    .dataframe thead th {\n",
       "        text-align: right;\n",
       "    }\n",
       "</style>\n",
       "<table border=\"1\" class=\"dataframe\">\n",
       "  <thead>\n",
       "    <tr style=\"text-align: right;\">\n",
       "      <th></th>\n",
       "      <th>Name</th>\n",
       "      <th>DOB</th>\n",
       "      <th>DOA</th>\n",
       "      <th>Type</th>\n",
       "      <th>Knownfrom</th>\n",
       "      <th>Whatsapp_name</th>\n",
       "      <th>Mobile_no</th>\n",
       "      <th>d</th>\n",
       "    </tr>\n",
       "  </thead>\n",
       "  <tbody>\n",
       "    <tr>\n",
       "      <th>0</th>\n",
       "      <td>Benu</td>\n",
       "      <td>2020-01-15</td>\n",
       "      <td>NaT</td>\n",
       "      <td>Personal</td>\n",
       "      <td>NaN</td>\n",
       "      <td>Wtest</td>\n",
       "      <td>xxxx</td>\n",
       "      <td>115.0</td>\n",
       "    </tr>\n",
       "    <tr>\n",
       "      <th>1</th>\n",
       "      <td>test1</td>\n",
       "      <td>NaT</td>\n",
       "      <td>2020-01-15</td>\n",
       "      <td>Colleage</td>\n",
       "      <td>NaN</td>\n",
       "      <td>Wtest</td>\n",
       "      <td>NaN</td>\n",
       "      <td>NaN</td>\n",
       "    </tr>\n",
       "    <tr>\n",
       "      <th>2</th>\n",
       "      <td>test2</td>\n",
       "      <td>2020-01-15</td>\n",
       "      <td>NaT</td>\n",
       "      <td>Relative</td>\n",
       "      <td>NaN</td>\n",
       "      <td>Priya</td>\n",
       "      <td>NaN</td>\n",
       "      <td>115.0</td>\n",
       "    </tr>\n",
       "    <tr>\n",
       "      <th>3</th>\n",
       "      <td>test3</td>\n",
       "      <td>NaT</td>\n",
       "      <td>2020-01-15</td>\n",
       "      <td>Social</td>\n",
       "      <td>NaN</td>\n",
       "      <td>Wtest</td>\n",
       "      <td>NaN</td>\n",
       "      <td>NaN</td>\n",
       "    </tr>\n",
       "  </tbody>\n",
       "</table>\n",
       "</div>"
      ],
      "text/plain": [
       "    Name        DOB        DOA      Type  Knownfrom Whatsapp_name Mobile_no  \\\n",
       "0   Benu 2020-01-15        NaT  Personal        NaN         Wtest      xxxx   \n",
       "1  test1        NaT 2020-01-15  Colleage        NaN         Wtest       NaN   \n",
       "2  test2 2020-01-15        NaT  Relative        NaN         Priya       NaN   \n",
       "3  test3        NaT 2020-01-15    Social        NaN         Wtest       NaN   \n",
       "\n",
       "       d  \n",
       "0  115.0  \n",
       "1    NaN  \n",
       "2  115.0  \n",
       "3    NaN  "
      ]
     },
     "execution_count": 30,
     "metadata": {},
     "output_type": "execute_result"
    }
   ],
   "source": [
    "wish_cal['d']=wish_cal['DOB'].map(lambda x: 100*x.month + x.day)\n",
    "wish_cal.dropna(subset=['DOB']).DOB.map(lambda x: x.strftime('%m-%d'))\n",
    "wish_cal"
   ]
  },
  {
   "cell_type": "code",
   "execution_count": 15,
   "metadata": {},
   "outputs": [
    {
     "data": {
      "text/plain": [
       "'01-15'"
      ]
     },
     "execution_count": 15,
     "metadata": {},
     "output_type": "execute_result"
    }
   ],
   "source": [
    "date.today().month*100+date.today().day\n",
    "\n",
    "date.today().strftime('%m-%d')"
   ]
  },
  {
   "cell_type": "code",
   "execution_count": 40,
   "metadata": {},
   "outputs": [
    {
     "data": {
      "text/html": [
       "<div>\n",
       "<style scoped>\n",
       "    .dataframe tbody tr th:only-of-type {\n",
       "        vertical-align: middle;\n",
       "    }\n",
       "\n",
       "    .dataframe tbody tr th {\n",
       "        vertical-align: top;\n",
       "    }\n",
       "\n",
       "    .dataframe thead th {\n",
       "        text-align: right;\n",
       "    }\n",
       "</style>\n",
       "<table border=\"1\" class=\"dataframe\">\n",
       "  <thead>\n",
       "    <tr style=\"text-align: right;\">\n",
       "      <th></th>\n",
       "      <th>Event</th>\n",
       "      <th>Type</th>\n",
       "      <th>Message</th>\n",
       "    </tr>\n",
       "  </thead>\n",
       "  <tbody>\n",
       "    <tr>\n",
       "      <th>0</th>\n",
       "      <td>DOB</td>\n",
       "      <td>Default</td>\n",
       "      <td>Happy b'day to you :)</td>\n",
       "    </tr>\n",
       "    <tr>\n",
       "      <th>1</th>\n",
       "      <td>DOA</td>\n",
       "      <td>Default</td>\n",
       "      <td>Happy marriage anniversory :)</td>\n",
       "    </tr>\n",
       "    <tr>\n",
       "      <th>2</th>\n",
       "      <td>DOB</td>\n",
       "      <td>Relative</td>\n",
       "      <td>Janma dinara subhetsa !</td>\n",
       "    </tr>\n",
       "  </tbody>\n",
       "</table>\n",
       "</div>"
      ],
      "text/plain": [
       "  Event      Type                        Message\n",
       "0   DOB   Default          Happy b'day to you :)\n",
       "1   DOA   Default  Happy marriage anniversory :)\n",
       "2   DOB  Relative        Janma dinara subhetsa !"
      ]
     },
     "execution_count": 40,
     "metadata": {},
     "output_type": "execute_result"
    }
   ],
   "source": [
    "lookups=pd.read_excel('lookups.xlsx')\n",
    "lookups"
   ]
  },
  {
   "cell_type": "code",
   "execution_count": 47,
   "metadata": {},
   "outputs": [
    {
     "data": {
      "text/plain": [
       "{'Priya': 'Janma dinara subhetsa !'}"
      ]
     },
     "execution_count": 47,
     "metadata": {},
     "output_type": "execute_result"
    }
   ],
   "source": [
    "def extract_message(wish_cal,lookups, event_type):\n",
    "    \"\"\"\n",
    "    Inputs\n",
    "    wish_cal: contact event calendar df\n",
    "    lookups: wishes df\n",
    "    type: type of wish\n",
    "    \"\"\"\n",
    "    drop_null=wish_cal.dropna(subset=[event_type])\n",
    "    dob_wish=drop_null[drop_null[event_type].map(lambda x: x.strftime('%m-%d'))==date.today().strftime('%m-%d')]\n",
    "    joined_df=pd.merge(dob_wish,lookups[lookups.Event==event_type],how='left', left_on='Type', right_on='Type').fillna({'Message':lookups[(lookups.Event==event_type) & (lookups.Type=='Default')].iloc[0]['Message']})\n",
    "    drop_nan=joined_df.dropna(subset=['Whatsapp_name'])[['Whatsapp_name','Message']]\n",
    "    map_msg=drop_nan.to_dict('records')\n",
    "    return {x['Whatsapp_name']:x['Message'] for x in map_msg}\n",
    "    \n",
    "d=extract_message(wish_cal,lookups, 'DOB')\n",
    "d\n"
   ]
  },
  {
   "cell_type": "code",
   "execution_count": 12,
   "metadata": {},
   "outputs": [],
   "source": [
    "import PyWhatsapp\n",
    "# import importlib\n",
    "# importlib.reload(PyWhatsapp)"
   ]
  },
  {
   "cell_type": "code",
   "execution_count": 13,
   "metadata": {},
   "outputs": [
    {
     "name": "stdout",
     "output_type": "stream",
     "text": [
      "Web Page Open\n",
      "message is :\n",
      "{'Wtest': \"Happy b'day to you :)\", 'Priya': 'Janma dinara subhetsa !'}\n",
      "SCAN YOUR QR CODE FOR WHATSAPP WEB\n",
      "QR scanned\n",
      "msg ll be sent to Wtest\n",
      "Message sent successfuly\n",
      "Message sent to  Wtest\n",
      "msg ll be sent to Priya\n",
      "Message sent successfuly\n",
      "Message sent to  Priya\n",
      "Task Completed\n"
     ]
    }
   ],
   "source": [
    "PyWhatsapp.execute(d)"
   ]
  },
  {
   "cell_type": "code",
   "execution_count": null,
   "metadata": {},
   "outputs": [],
   "source": []
  }
 ],
 "metadata": {
  "kernelspec": {
   "display_name": "Python 3",
   "language": "python",
   "name": "python3"
  },
  "language_info": {
   "codemirror_mode": {
    "name": "ipython",
    "version": 3
   },
   "file_extension": ".py",
   "mimetype": "text/x-python",
   "name": "python",
   "nbconvert_exporter": "python",
   "pygments_lexer": "ipython3",
   "version": "3.7.1"
  }
 },
 "nbformat": 4,
 "nbformat_minor": 2
}
